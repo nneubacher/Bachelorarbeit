{
 "cells": [
  {
   "cell_type": "code",
   "execution_count": null,
   "metadata": {},
   "outputs": [],
   "source": [
    "import json\n",
    "import numpy as np\n",
    "import pandas as pd\n",
    "import matplotlib.pyplot as plt\n",
    "import seaborn as sns"
   ]
  },
  {
   "cell_type": "code",
   "execution_count": null,
   "metadata": {},
   "outputs": [],
   "source": [
    "def calculate_accuracies(data, thresholds):\n",
    "    metrics = []\n",
    "    for threshold in thresholds:\n",
    "        correct_predictions_jaccard = sum(1 for item in data if item[\"similarity_score_jaccard\"] >= threshold)\n",
    "        correct_predictions_cosine = sum(1 for item in data if item[\"similarity_score_cosine\"] >= threshold)\n",
    "        total_questions = len(data)\n",
    "        metrics.append({\n",
    "            'Threshold': threshold,\n",
    "            'Jaccard Accuracy': correct_predictions_jaccard / total_questions,\n",
    "            'Cosine Accuracy': correct_predictions_cosine / total_questions\n",
    "        })\n",
    "    return pd.DataFrame(metrics)"
   ]
  },
  {
   "cell_type": "code",
   "execution_count": null,
   "metadata": {},
   "outputs": [],
   "source": [
    "with open('model_with_context.json', 'r') as file:\n",
    "    data_with_context = json.load(file)['data']\n",
    "with open('model_without_context.json', 'r') as file:\n",
    "    data_without_context = json.load(file)['data']\n",
    "\n",
    "thresholds = np.arange(0.0, 1.0, 0.01)\n",
    "\n",
    "df_metrics_with_context = calculate_accuracies(data_with_context, thresholds)\n",
    "df_metrics_without_context = calculate_accuracies(data_without_context, thresholds)"
   ]
  },
  {
   "cell_type": "code",
   "execution_count": null,
   "metadata": {},
   "outputs": [],
   "source": [
    "# Visualization\n",
    "sns.set_theme(style=\"whitegrid\")\n",
    "fig, axs = plt.subplots(2, 1, figsize=(12, 14))\n",
    "\n",
    "# Jaccard Accuracy\n",
    "sns.lineplot(x='Threshold', y='Jaccard Accuracy', data=df_metrics_with_context, ax=axs[0], label='With Context', color='dodgerblue', lw=2)\n",
    "sns.lineplot(x='Threshold', y='Jaccard Accuracy', data=df_metrics_without_context, ax=axs[0], label='Without Context', color='darkorange', lw=2)\n",
    "axs[0].set_title('Jaccard Similarity Accuracy')\n",
    "\n",
    "# Cosine Accuracy\n",
    "sns.lineplot(x='Threshold', y='Cosine Accuracy', data=df_metrics_with_context, ax=axs[1], label='With Context', color='dodgerblue', lw=2)\n",
    "sns.lineplot(x='Threshold', y='Cosine Accuracy', data=df_metrics_without_context, ax=axs[1], label='Without Context', color='darkorange', lw=2)\n",
    "axs[1].set_title('Cosine Similarity Accuracy')\n",
    "\n",
    "# Final touches\n",
    "for ax in axs:\n",
    "    ax.set_xlabel('Similarity Threshold')\n",
    "    ax.set_ylabel('Accuracy')\n",
    "    ax.legend()\n",
    "\n",
    "plt.tight_layout()\n",
    "plt.savefig('model_comparison_accuracy.png', dpi=300)\n",
    "plt.show()"
   ]
  }
 ],
 "metadata": {
  "language_info": {
   "name": "python"
  }
 },
 "nbformat": 4,
 "nbformat_minor": 2
}
