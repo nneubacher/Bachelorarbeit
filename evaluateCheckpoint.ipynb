{
 "cells": [
  {
   "cell_type": "code",
   "execution_count": 8,
   "metadata": {},
   "outputs": [
    {
     "name": "stdout",
     "output_type": "stream",
     "text": [
      "Accuracy: 0.616\n",
      "Recall: 0.852\n"
     ]
    }
   ],
   "source": [
    "import json\n",
    "\n",
    "# Load predictions checkpoint file\n",
    "with open('checkpoint.json', 'r') as file:\n",
    "    data = json.load(file)\n",
    "\n",
    "# Define new threshold for similarity to be considered as correct prediction\n",
    "# Jaccard similarity of 1.0 shows exact matching tokens of predicted answer and ground truth answer\n",
    "new_threshold = 0.5\n",
    "\n",
    "# Initialize counters\n",
    "total_questions = 0\n",
    "correct_predictions = 0\n",
    "correct_contexts = 0\n",
    "\n",
    "# Iterate through the data to evaluate predictions with new threshold\n",
    "for item in data[\"data\"]:\n",
    "    total_questions += 1\n",
    "    # Check if similarity_score is greater than or equal to new_threshold\n",
    "    if item[\"similarity_score\"] >= new_threshold:\n",
    "        correct_predictions += 1\n",
    "    # Correctly handle the boolean value for context_found\n",
    "    if item[\"context_found\"] == True:\n",
    "        correct_contexts += 1\n",
    "\n",
    "# Calculate accuracy of predictions and recall\n",
    "accuracy = correct_predictions / total_questions\n",
    "recall = correct_contexts / total_questions\n",
    "\n",
    "# Output accuracy of exact matches and recall\n",
    "print(f\"Accuracy: {accuracy}\")\n",
    "print(f\"Recall: {recall}\")"
   ]
  },
  {
   "cell_type": "code",
   "execution_count": null,
   "metadata": {},
   "outputs": [],
   "source": []
  }
 ],
 "metadata": {
  "kernelspec": {
   "display_name": "Bachelorarbeit",
   "language": "python",
   "name": "python3"
  },
  "language_info": {
   "codemirror_mode": {
    "name": "ipython",
    "version": 3
   },
   "file_extension": ".py",
   "mimetype": "text/x-python",
   "name": "python",
   "nbconvert_exporter": "python",
   "pygments_lexer": "ipython3",
   "version": "3.12.2"
  }
 },
 "nbformat": 4,
 "nbformat_minor": 2
}
