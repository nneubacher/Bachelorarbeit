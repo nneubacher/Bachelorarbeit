{
 "cells": [
  {
   "cell_type": "code",
   "execution_count": 11,
   "metadata": {},
   "outputs": [
    {
     "name": "stdout",
     "output_type": "stream",
     "text": [
      "Jaccard Accuracy: 0.594\n",
      "Cosine Accuracy: 0.594\n",
      "Recall: 0.852\n"
     ]
    }
   ],
   "source": [
    "import json\n",
    "\n",
    "# Load checkpoint file\n",
    "with open('checkpoint.json', 'r') as file:\n",
    "    data = json.load(file)\n",
    "\n",
    "# Define new thresholds for similarity to be considered as correct prediction\n",
    "jaccard_threshold = 1.0\n",
    "cosine_threshold = 1.0\n",
    "\n",
    "# Initialize counters\n",
    "total_questions = len(data[\"data\"])\n",
    "correct_predictions_jaccard = 0\n",
    "correct_predictions_cosine = 0\n",
    "correct_contexts = 0\n",
    "\n",
    "# Iterate through data to evaluate predictions with new thresholds\n",
    "for item in data[\"data\"]:\n",
    "    # Check if Jaccard similarity score is greater than or equal to jaccard_threshold\n",
    "    if item[\"similarity_score_jaccard\"] >= jaccard_threshold:\n",
    "        correct_predictions_jaccard += 1\n",
    "    # Check if Cosine similarity score is greater than or equal to cosine_threshold\n",
    "    if item[\"similarity_score_cosine\"] >= cosine_threshold:\n",
    "        correct_predictions_cosine += 1\n",
    "    # Correctly handle the boolean value for context_found\n",
    "    if item[\"context_found\"]:\n",
    "        correct_contexts += 1\n",
    "\n",
    "# Calculate accuracy of predictions and recall\n",
    "accuracy_jaccard = correct_predictions_jaccard / total_questions\n",
    "accuracy_cosine = correct_predictions_cosine / total_questions\n",
    "recall = correct_contexts / total_questions\n",
    "\n",
    "# Output accuracy of exact matches and recall for both Jaccard and Cosine\n",
    "print(f\"Jaccard Accuracy: {accuracy_jaccard}\")\n",
    "print(f\"Cosine Accuracy: {accuracy_cosine}\")\n",
    "print(f\"Recall: {recall}\")\n"
   ]
  },
  {
   "cell_type": "code",
   "execution_count": null,
   "metadata": {},
   "outputs": [],
   "source": []
  }
 ],
 "metadata": {
  "kernelspec": {
   "display_name": "Bachelorarbeit",
   "language": "python",
   "name": "python3"
  },
  "language_info": {
   "codemirror_mode": {
    "name": "ipython",
    "version": 3
   },
   "file_extension": ".py",
   "mimetype": "text/x-python",
   "name": "python",
   "nbconvert_exporter": "python",
   "pygments_lexer": "ipython3",
   "version": "3.12.2"
  }
 },
 "nbformat": 4,
 "nbformat_minor": 2
}
