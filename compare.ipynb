{
 "cells": [
  {
   "cell_type": "code",
   "execution_count": 1,
   "metadata": {},
   "outputs": [],
   "source": [
    "import json\n",
    "import numpy as np\n",
    "import pandas as pd\n",
    "import matplotlib.pyplot as plt\n",
    "import seaborn as sns\n",
    "from scipy.interpolate import interp1d"
   ]
  },
  {
   "cell_type": "code",
   "execution_count": 2,
   "metadata": {},
   "outputs": [],
   "source": [
    "def calculate_accuracies(data, thresholds):\n",
    "    metrics = []\n",
    "    for threshold in thresholds:\n",
    "        correct_predictions_jaccard = sum(1 for item in data if item[\"similarity_score_jaccard\"] >= threshold)\n",
    "        correct_predictions_cosine = sum(1 for item in data if item[\"similarity_score_cosine\"] >= threshold)\n",
    "        total_questions = len(data)\n",
    "        metrics.append({\n",
    "            'Threshold': threshold,\n",
    "            'Jaccard Accuracy': correct_predictions_jaccard / total_questions,\n",
    "            'Cosine Accuracy': correct_predictions_cosine / total_questions,\n",
    "            'Total Correct Jaccard': correct_predictions_jaccard,\n",
    "            'Total Correct Cosine': correct_predictions_cosine\n",
    "        })\n",
    "    return pd.DataFrame(metrics)"
   ]
  },
  {
   "cell_type": "code",
   "execution_count": 3,
   "metadata": {},
   "outputs": [],
   "source": [
    "with open('predictions.json', 'r') as file:\n",
    "    data_with_context = json.load(file)['data']\n",
    "with open('predictions_gpt.json', 'r') as file:\n",
    "    data_without_context = json.load(file)['data']\n",
    "\n",
    "thresholds = np.arange(0.0, 1.0, 0.001)\n",
    "\n",
    "df_metrics_with_context = calculate_accuracies(data_with_context, thresholds)\n",
    "df_metrics_without_context = calculate_accuracies(data_without_context, thresholds)\n",
    "\n",
    "median_jaccard_with_context = df_metrics_with_context['Jaccard Accuracy'].median()\n",
    "median_jaccard_without_context = df_metrics_without_context['Jaccard Accuracy'].median()\n",
    "median_cosine_with_context = df_metrics_with_context['Cosine Accuracy'].median()\n",
    "median_cosine_without_context = df_metrics_without_context['Cosine Accuracy'].median()"
   ]
  },
  {
   "cell_type": "code",
   "execution_count": 4,
   "metadata": {},
   "outputs": [],
   "source": [
    "def find_intersection(func1, func2, x_range):\n",
    "    x = np.linspace(x_range[0], x_range[1], num=1000)\n",
    "    f1 = interp1d(x, func1(x), kind='linear')\n",
    "    f2 = interp1d(x, func2(x), kind='linear')\n",
    "    diff = f1(x) - f2(x)\n",
    "    idx = np.argwhere(np.diff(np.sign(diff))).flatten()\n",
    "    return x[idx], f1(x[idx])"
   ]
  },
  {
   "cell_type": "code",
   "execution_count": 5,
   "metadata": {},
   "outputs": [],
   "source": [
    "x_range = (thresholds[0], thresholds[-1])"
   ]
  },
  {
   "cell_type": "code",
   "execution_count": 6,
   "metadata": {},
   "outputs": [],
   "source": [
    "intersection_jaccard, accuracy_jaccard = find_intersection(\n",
    "    lambda x: np.interp(x, df_metrics_with_context['Threshold'], df_metrics_with_context['Jaccard Accuracy']),\n",
    "    lambda x: np.interp(x, df_metrics_without_context['Threshold'], df_metrics_without_context['Jaccard Accuracy']),\n",
    "    (thresholds[0], thresholds[-1])\n",
    ")\n",
    "intersection_cosine, accuracy_cosine = find_intersection(\n",
    "    lambda x: np.interp(x, df_metrics_with_context['Threshold'], df_metrics_with_context['Cosine Accuracy']),\n",
    "    lambda x: np.interp(x, df_metrics_without_context['Threshold'], df_metrics_without_context['Cosine Accuracy']),\n",
    "    (thresholds[0], thresholds[-1])\n",
    ")"
   ]
  },
  {
   "cell_type": "code",
   "execution_count": null,
   "metadata": {},
   "outputs": [],
   "source": [
    "# Visualization setup\n",
    "sns.set_theme(style=\"whitegrid\")\n",
    "palette = sns.color_palette(\"colorblind\", as_cmap=False)\n",
    "colors = [palette[i] for i in range(len(palette))]\n",
    "\n",
    "# Line plot for accuracies\n",
    "fig, ax = plt.subplots(figsize=(24, 14))\n",
    "sns.lineplot(x='Threshold', y='Jaccard Accuracy', data=df_metrics_with_context, label='Jaccard w/ context', color=colors[0], lw=2, ax=ax)\n",
    "sns.lineplot(x='Threshold', y='Jaccard Accuracy', data=df_metrics_without_context, label='Jaccard w/o context', color=colors[1], lw=2, ax=ax)\n",
    "sns.lineplot(x='Threshold', y='Cosine Accuracy', data=df_metrics_with_context, label='Cosine w/ context', color=colors[2], lw=2, ax=ax)\n",
    "sns.lineplot(x='Threshold', y='Cosine Accuracy', data=df_metrics_without_context, label='Cosine w/o context', color=colors[3], lw=2, ax=ax)\n",
    "ax.set_title('Jaccard and Cosine Similarity Accuracy')\n",
    "ax.legend()\n",
    "plt.tight_layout()\n",
    "plt.savefig('accuracy_comparison.png', dpi=300)\n",
    "plt.show()\n",
    "\n",
    "# Histogram for accuracy distributions overlayed\n",
    "fig, ax = plt.subplots(figsize=(12, 7))\n",
    "\n",
    "# Histogram for Jaccard Accuracy\n",
    "sns.histplot(df_metrics_with_context, x='Jaccard Accuracy', color=palette[0], label='Jaccard w/ context', kde=True, alpha=0.7, ax=ax)\n",
    "sns.histplot(df_metrics_without_context, x='Jaccard Accuracy', color=palette[1], label='Jaccard w/o context', kde=True, alpha=0.7, ax=ax)\n",
    "\n",
    "# Histogram for Cosine Accuracy on the same plot\n",
    "sns.histplot(df_metrics_with_context, x='Cosine Accuracy', color=palette[2], label='Cosine w/ context', kde=True, alpha=0.7, ax=ax)\n",
    "sns.histplot(df_metrics_without_context, x='Cosine Accuracy', color=palette[3], label='Cosine w/o context', kde=True, alpha=0.7, ax=ax)\n",
    "\n",
    "# Title and legend\n",
    "ax.set_title('Overlayed Histogram of Jaccard and Cosine Accuracies')\n",
    "ax.legend()\n",
    "\n",
    "plt.tight_layout()\n",
    "plt.savefig('overlayed_accuracy_histograms.png', dpi=300)\n",
    "plt.show()"
   ]
  }
 ],
 "metadata": {
  "kernelspec": {
   "display_name": "bachelorarbeit",
   "language": "python",
   "name": "python3"
  },
  "language_info": {
   "codemirror_mode": {
    "name": "ipython",
    "version": 3
   },
   "file_extension": ".py",
   "mimetype": "text/x-python",
   "name": "python",
   "nbconvert_exporter": "python",
   "pygments_lexer": "ipython3",
   "version": "3.12.2"
  }
 },
 "nbformat": 4,
 "nbformat_minor": 2
}
